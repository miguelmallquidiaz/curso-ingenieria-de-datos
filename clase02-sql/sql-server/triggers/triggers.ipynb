{
 "cells": [
  {
   "cell_type": "markdown",
   "id": "2674aa30",
   "metadata": {},
   "source": [
    "## ¿Qué es un Tigger?\n",
    "\n",
    "- Es un disparador automático que se ejecuta cuando un evento en la tabla o vista ocurre.\n",
    "- Ejemplo: Cuando se insierta, modifica o elimina un registro.\n",
    "\n",
    "Cuando es recomendable utilizarlo:\n",
    "- Son útiles en tablas críticas para registrar cambios importantes.\n",
    "\n",
    "Observación:\n",
    "- `FOR` -> Se utilizaba en versiones antiguas\n",
    "- `AFTER` -> Hoy en día se utiliza esto por ser más moderno.\n",
    "- `INSTEAD OF` -> No deja que la operación ocurra.\n",
    "\n",
    "**Sintaxis básica:**\n",
    "\n",
    "```sql\n",
    "CREATE TRIGGER NombreDelTrigger\n",
    "ON NombreDeLaTabla\n",
    "[AFTER | INSTEAD OF] [INSERT, UPDATE, DELETE]\n",
    "AS -- Marca el inicio del código\n",
    "BEGIN -- Bloque de código\n",
    "\t-- Código\n",
    "END"
   ]
  },
  {
   "cell_type": "markdown",
   "id": "3a7f4961",
   "metadata": {},
   "source": [
    "- `inserted` → contiene los registros nuevos que se acaban de insertar o actualizar.\n",
    "\n",
    "- `deleted` → contiene los registros anteriores (los que fueron eliminados o reemplazados en u"
   ]
  },
  {
   "cell_type": "markdown",
   "id": "e2001bf9",
   "metadata": {},
   "source": []
  }
 ],
 "metadata": {
  "language_info": {
   "name": "python"
  }
 },
 "nbformat": 4,
 "nbformat_minor": 5
}
