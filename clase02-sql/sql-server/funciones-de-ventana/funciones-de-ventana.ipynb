{
 "cells": [
  {
   "cell_type": "markdown",
   "id": "d3324861",
   "metadata": {},
   "source": [
    "## Funciones de Ventana"
   ]
  },
  {
   "cell_type": "markdown",
   "metadata": {},
   "source": [
    "### ¿Qué es Funciones de ventana en SQL Server?\n",
    "\n",
    "`Window_Function` se utiliza para realizar cálculos en un conjunto de filas relacionadas pero sin agrupar.\n",
    "\n",
    "las funciones:\n",
    "- ``ROW NUMBER()``: Asigna un número consecutivo a cada fila dentro de un conjunto ordenado.\n",
    "- ``LAG()``: Permite acceder al valor de una fila anterior.\n",
    "- ``RANK()``: Asigna un número de ranking a cada fila dentro de una partición.\n",
    "- ``AVG()``: Es una función de agregación, pero en una ventana devuelve el promedio de un conjunto de filas.\n",
    "- ``SUM()``: Para sumar\n",
    "\n",
    "**Sintaxis básica:**\n",
    "\n",
    "```sql\n",
    "window_function ([ALL] expression)\n",
    "OVER ([PARTITION BY partition_list][ORDER BY order_list])"
   ]
  }
 ],
 "metadata": {
  "language_info": {
   "name": "python"
  }
 },
 "nbformat": 4,
 "nbformat_minor": 5
}
