{
 "cells": [
  {
   "cell_type": "markdown",
   "id": "c97e262a",
   "metadata": {},
   "source": [
    "## ¿Qué es SQL?\n",
    "\n",
    "- Es un lenguaje de consulta estructurado utilizado para interactuar con base de datos relacionales. Sirve para realizar tareas como consultar, insertar, actualizar y eliminar datos."
   ]
  },
  {
   "cell_type": "markdown",
   "id": "efb1fc66",
   "metadata": {},
   "source": [
    "## Sintaxis básica en SQL\n",
    "\n",
    "- Permite a los usuarios utilizar comando sencillos para interactuar con la base de datos relacional."
   ]
  },
  {
   "cell_type": "markdown",
   "id": "ef59f3d7",
   "metadata": {},
   "source": [
    "### Comandos básicos\n",
    "\n",
    "- ```use name_database```: Permite seleccionar la base de datos.\n",
    "- ```select```: Permite recuperar datos de una o varias tablas.\n",
    "  - ```*```: Es un comodín que permite seleccionar todas las columnas.\n",
    "  - "
   ]
  }
 ],
 "metadata": {
  "language_info": {
   "name": "python"
  }
 },
 "nbformat": 4,
 "nbformat_minor": 5
}
