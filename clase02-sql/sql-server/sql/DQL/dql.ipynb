{
 "cells": [
  {
   "cell_type": "markdown",
   "id": "97e3ebbd",
   "metadata": {},
   "source": [
    "## Lenguaje de Consulta de Datos (DQL)"
   ]
  },
  {
   "cell_type": "markdown",
   "id": "362fca6b",
   "metadata": {},
   "source": [
    "- Este subconjunto del lenguaje SQL se utiliza solo para consultar y recuperar información de la base de datos."
   ]
  },
  {
   "cell_type": "markdown",
   "id": "4ab40059",
   "metadata": {},
   "source": [
    "### Funciones de agregación:\n",
    "\n",
    "Todas estas funciones se utilizan en el SELECT\n",
    "\n",
    "- `AVG()` — promedio\n",
    "- `SUM()` — suma total\n",
    "- `MIN()` — valor mínimo\n",
    "- `MAX()` — valor máximo\n",
    "- `COUNT()` — contar registros\n",
    "\n",
    "**Sintaxis básica:**\n",
    "\n",
    "```sql\n",
    "SELECT columnas_o_funciones_agregadas\n",
    "FROM nombre_tabla\n",
    "[WHERE condición]\n",
    "[GROUP BY columna]\n",
    "[HAVING condición_agregada]\n",
    "[ORDER BY columna_o_función];"
   ]
  },
  {
   "cell_type": "markdown",
   "id": "a01ed7d3",
   "metadata": {},
   "source": [
    "Conceptos básicos de cláusulas:\n",
    "\n",
    "- `GROUP BY`: Cláusula de agrupamiento (para aplicar funciones de agregación por grupos).\n",
    "- `HAVING`: Cláusula de filtrado de grupos a una condición agregada por ejemplo SUM() > 3.\n",
    "- `ORDER BY`: Cláusula de ordenamiento de resultados para una columna o función."
   ]
  },
  {
   "cell_type": "markdown",
   "id": "4046aa1e",
   "metadata": {},
   "source": [
    "### Operadores lógicos\n",
    "\n",
    "| Operador       | Ejemplo                                                                               | Explicación                                                         |\n",
    "| -------------- | ------------------------------------------------------------------------------------- | ------------------------------------------------------------------- |\n",
    "| **AND**        | `WHERE age > 14 AND gender = 'F'`                                                     | Ambas condiciones deben ser verdaderas                              |\n",
    "| **OR**         | `WHERE section = 'A' OR section = 'B'`                                                | Basta con que una condición sea verdadera                           |\n",
    "| **NOT**        | `WHERE NOT (section = 'C')`                                                           | Invierte la condición → selecciona los que **no** cumplen           |\n",
    "| **BETWEEN**    | `WHERE age BETWEEN 14 AND 16`                                                         | Está dentro del rango (incluye límites)                             |\n",
    "| **IN**         | `WHERE section IN ('A','C')`                                                          | Está en un conjunto de valores                                      |\n",
    "| **LIKE**       | `WHERE fname LIKE 'A%'`                                                               | Coincide con un patrón (empieza con “A”)                            |\n",
    "| **EXISTS**     | `sql WHERE EXISTS (SELECT * FROM Students WHERE section = 'B')`                       | Verdadero si la subconsulta devuelve al menos 1 fila                |\n",
    "| **ALL**        | `SELECT * FROM Students WHERE age > ALL (SELECT age FROM Students WHERE section='A')` | Verdadero si es mayor que *todos* los resultados de esa subconsulta |\n",
    "| **ANY / SOME** | `SELECT * FROM Students WHERE age > ANY (SELECT age FROM Students WHERE section='B')` | Verdadero si es mayor que *al menos uno* de los resultados          |\n"
   ]
  },
  {
   "cell_type": "markdown",
   "id": "3ff5c24c",
   "metadata": {},
   "source": [
    "## Ejercicios"
   ]
  },
  {
   "cell_type": "markdown",
   "id": "c173da17",
   "metadata": {},
   "source": [
    "### SELECT\n",
    "\n",
    "El comando `SELECT` permite recuperar datos de una o varias tablas de una base de datos.\n",
    "\n",
    "**Sintaxis básica:**\n",
    "\n",
    "```sql\n",
    "SELECT column_name\n",
    "FROM table_name;"
   ]
  },
  {
   "cell_type": "markdown",
   "id": "b4dd67dd",
   "metadata": {},
   "source": []
  }
 ],
 "metadata": {
  "language_info": {
   "name": "python"
  }
 },
 "nbformat": 4,
 "nbformat_minor": 5
}
