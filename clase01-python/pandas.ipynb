{
 "cells": [
  {
   "cell_type": "markdown",
   "id": "6fba1f35",
   "metadata": {},
   "source": [
    "## Curso de Pandas\n",
    "\n",
    "- Es una librería de Python que se utiliza para analizar y manipular datos. Proporciona estructuras de datos como Series y DataFrame."
   ]
  },
  {
   "cell_type": "code",
   "execution_count": null,
   "id": "9b5f5fc7",
   "metadata": {},
   "outputs": [],
   "source": [
    "%pip install pandas"
   ]
  },
  {
   "cell_type": "code",
   "execution_count": 3,
   "id": "9cba9995",
   "metadata": {},
   "outputs": [],
   "source": [
    "import pandas as pd"
   ]
  },
  {
   "cell_type": "markdown",
   "id": "83b3d61a",
   "metadata": {},
   "source": [
    "## Series\n",
    "\n",
    "- Es un objeto udimensional como si fuera una columna de estilo array, tiene una secuencia de registros, su índice comienza en 0."
   ]
  },
  {
   "cell_type": "code",
   "execution_count": 5,
   "id": "0c644a75",
   "metadata": {},
   "outputs": [
    {
     "name": "stdout",
     "output_type": "stream",
     "text": [
      "0    Miguel\n",
      "1     Pedro\n",
      "dtype: object\n"
     ]
    }
   ],
   "source": [
    "names = [\"Miguel\", \"Pedro\"]\n",
    "my_series = pd.Series(names)\n",
    "print(my_series)"
   ]
  },
  {
   "cell_type": "markdown",
   "id": "ea09d242",
   "metadata": {},
   "source": [
    "## Dataframe\n",
    "\n",
    "- Un DataFrame es una tabla bidimensional representa a dos dimensiones, similar a un diccionario de Series, que tiene un índice para las filas y nombres para las columnas."
   ]
  },
  {
   "cell_type": "code",
   "execution_count": 6,
   "id": "40275c90",
   "metadata": {},
   "outputs": [
    {
     "name": "stdout",
     "output_type": "stream",
     "text": [
      "    name  age       city\n",
      "0  Alfer   30     Madrid\n",
      "1  Pedro   25  Barcelona\n",
      "2   Juan   22   Valencia\n"
     ]
    }
   ],
   "source": [
    "data = {\n",
    "    \"name\": [\"Alfer\", \"Pedro\", \"Juan\"],\n",
    "    \"age\": [30, 25, 22],\n",
    "    \"city\": [\"Madrid\", \"Barcelona\", \"Valencia\"]\n",
    "}\n",
    "\n",
    "df = pd.DataFrame(data)\n",
    "\n",
    "print(df)"
   ]
  },
  {
   "cell_type": "code",
   "execution_count": 29,
   "id": "e9bf7372",
   "metadata": {},
   "outputs": [],
   "source": [
    "file_path = '../assets/data-retail'\n",
    "file_path_titanic = '../assets/data-titanic'"
   ]
  },
  {
   "cell_type": "markdown",
   "id": "ea6fcf91",
   "metadata": {},
   "source": [
    "## Leer el archivo"
   ]
  },
  {
   "cell_type": "markdown",
   "id": "9c3dca42",
   "metadata": {},
   "source": [
    "### 1) Para leer un archivo TXT o CSV"
   ]
  },
  {
   "cell_type": "markdown",
   "id": "612e3568",
   "metadata": {},
   "source": [
    "- En este caso tenemos un archivo tipo txt separados con |nombre|... de esa forma.\n",
    "- Para eso le ponemos un ```sep``` para especificar con que caracter esta separado.\n",
    "- Además no tiene cabeceras así que se le debe asignar con ```header```.\n",
    "- Con ```name``` le asignamos esa cabecera."
   ]
  },
  {
   "cell_type": "code",
   "execution_count": 19,
   "id": "90aca138",
   "metadata": {},
   "outputs": [],
   "source": [
    "df_customers = pd.read_csv(\n",
    "    f'{file_path}/customers.txt',\n",
    "    sep = '|',\n",
    "    header = None,\n",
    "    names = \n",
    "    [\"customer_id\", \"customer_fname\" ,\"customer_lname\", \"customer_email\", \"customer_password\", \"customer_steet\",\n",
    "    \"customer_city\", \"customer_state\", \"customer_zipcode\"]\n",
    ")"
   ]
  },
  {
   "cell_type": "code",
   "execution_count": 32,
   "id": "c4e289fd",
   "metadata": {},
   "outputs": [
    {
     "data": {
      "text/html": [
       "<div>\n",
       "<style scoped>\n",
       "    .dataframe tbody tr th:only-of-type {\n",
       "        vertical-align: middle;\n",
       "    }\n",
       "\n",
       "    .dataframe tbody tr th {\n",
       "        vertical-align: top;\n",
       "    }\n",
       "\n",
       "    .dataframe thead th {\n",
       "        text-align: right;\n",
       "    }\n",
       "</style>\n",
       "<table border=\"1\" class=\"dataframe\">\n",
       "  <thead>\n",
       "    <tr style=\"text-align: right;\">\n",
       "      <th></th>\n",
       "      <th>customer_id</th>\n",
       "      <th>customer_fname</th>\n",
       "      <th>customer_lname</th>\n",
       "      <th>customer_email</th>\n",
       "      <th>customer_password</th>\n",
       "      <th>customer_steet</th>\n",
       "      <th>customer_city</th>\n",
       "      <th>customer_state</th>\n",
       "      <th>customer_zipcode</th>\n",
       "    </tr>\n",
       "  </thead>\n",
       "  <tbody>\n",
       "    <tr>\n",
       "      <th>0</th>\n",
       "      <td>1</td>\n",
       "      <td>Richard</td>\n",
       "      <td>Hernandez</td>\n",
       "      <td>XXXXXXXXX</td>\n",
       "      <td>XXXXXXXXX</td>\n",
       "      <td>6303 Heather Plaza</td>\n",
       "      <td>Brownsville</td>\n",
       "      <td>TX</td>\n",
       "      <td>78521</td>\n",
       "    </tr>\n",
       "    <tr>\n",
       "      <th>1</th>\n",
       "      <td>2</td>\n",
       "      <td>Mary</td>\n",
       "      <td>Barrett</td>\n",
       "      <td>XXXXXXXXX</td>\n",
       "      <td>XXXXXXXXX</td>\n",
       "      <td>9526 Noble Embers Ridge</td>\n",
       "      <td>Littleton</td>\n",
       "      <td>CO</td>\n",
       "      <td>80126</td>\n",
       "    </tr>\n",
       "  </tbody>\n",
       "</table>\n",
       "</div>"
      ],
      "text/plain": [
       "   customer_id customer_fname customer_lname customer_email customer_password  \\\n",
       "0            1        Richard      Hernandez      XXXXXXXXX         XXXXXXXXX   \n",
       "1            2           Mary        Barrett      XXXXXXXXX         XXXXXXXXX   \n",
       "\n",
       "            customer_steet customer_city customer_state  customer_zipcode  \n",
       "0       6303 Heather Plaza   Brownsville             TX             78521  \n",
       "1  9526 Noble Embers Ridge     Littleton             CO             80126  "
      ]
     },
     "execution_count": 32,
     "metadata": {},
     "output_type": "execute_result"
    }
   ],
   "source": [
    "df_customers.head(2)"
   ]
  },
  {
   "cell_type": "code",
   "execution_count": 31,
   "id": "048ae807",
   "metadata": {},
   "outputs": [],
   "source": [
    "df_titanic = pd.read_csv(\n",
    "    f'{file_path_titanic}/titanic.csv',\n",
    "    sep=';'\n",
    ")"
   ]
  },
  {
   "cell_type": "code",
   "execution_count": 33,
   "id": "d3bed874",
   "metadata": {},
   "outputs": [
    {
     "data": {
      "text/html": [
       "<div>\n",
       "<style scoped>\n",
       "    .dataframe tbody tr th:only-of-type {\n",
       "        vertical-align: middle;\n",
       "    }\n",
       "\n",
       "    .dataframe tbody tr th {\n",
       "        vertical-align: top;\n",
       "    }\n",
       "\n",
       "    .dataframe thead th {\n",
       "        text-align: right;\n",
       "    }\n",
       "</style>\n",
       "<table border=\"1\" class=\"dataframe\">\n",
       "  <thead>\n",
       "    <tr style=\"text-align: right;\">\n",
       "      <th></th>\n",
       "      <th>Id_Pasajero</th>\n",
       "      <th>Survived</th>\n",
       "      <th>Clase</th>\n",
       "      <th>Nombre</th>\n",
       "      <th>Sexo</th>\n",
       "      <th>Edad</th>\n",
       "      <th>Familiares</th>\n",
       "      <th>Tiquete</th>\n",
       "      <th>Tarifa</th>\n",
       "      <th>Cabina</th>\n",
       "      <th>Embarcado</th>\n",
       "    </tr>\n",
       "  </thead>\n",
       "  <tbody>\n",
       "    <tr>\n",
       "      <th>0</th>\n",
       "      <td>1</td>\n",
       "      <td>0</td>\n",
       "      <td>3</td>\n",
       "      <td>Braund, Mr. Owen Harris</td>\n",
       "      <td>Masculino</td>\n",
       "      <td>22.0</td>\n",
       "      <td>0</td>\n",
       "      <td>A/5 21171</td>\n",
       "      <td>7.25</td>\n",
       "      <td>NaN</td>\n",
       "      <td>S</td>\n",
       "    </tr>\n",
       "    <tr>\n",
       "      <th>1</th>\n",
       "      <td>2</td>\n",
       "      <td>1</td>\n",
       "      <td>1</td>\n",
       "      <td>Cumings, Mrs. John Bradley (Florence Briggs Th...</td>\n",
       "      <td>Femenino</td>\n",
       "      <td>38.0</td>\n",
       "      <td>0</td>\n",
       "      <td>PC 17599</td>\n",
       "      <td>71.28</td>\n",
       "      <td>C85</td>\n",
       "      <td>C</td>\n",
       "    </tr>\n",
       "  </tbody>\n",
       "</table>\n",
       "</div>"
      ],
      "text/plain": [
       "   Id_Pasajero  Survived  Clase  \\\n",
       "0            1         0      3   \n",
       "1            2         1      1   \n",
       "\n",
       "                                              Nombre       Sexo  Edad  \\\n",
       "0                            Braund, Mr. Owen Harris  Masculino  22.0   \n",
       "1  Cumings, Mrs. John Bradley (Florence Briggs Th...   Femenino  38.0   \n",
       "\n",
       "   Familiares    Tiquete  Tarifa Cabina Embarcado  \n",
       "0           0  A/5 21171    7.25    NaN         S  \n",
       "1           0   PC 17599   71.28    C85         C  "
      ]
     },
     "execution_count": 33,
     "metadata": {},
     "output_type": "execute_result"
    }
   ],
   "source": [
    "df_titanic.head(2)"
   ]
  },
  {
   "cell_type": "markdown",
   "id": "027d55dd",
   "metadata": {},
   "source": [
    "### 2) Para leer un archivo JSON"
   ]
  },
  {
   "cell_type": "code",
   "execution_count": 23,
   "id": "7e01c4b8",
   "metadata": {},
   "outputs": [
    {
     "data": {
      "text/html": [
       "<div>\n",
       "<style scoped>\n",
       "    .dataframe tbody tr th:only-of-type {\n",
       "        vertical-align: middle;\n",
       "    }\n",
       "\n",
       "    .dataframe tbody tr th {\n",
       "        vertical-align: top;\n",
       "    }\n",
       "\n",
       "    .dataframe thead th {\n",
       "        text-align: right;\n",
       "    }\n",
       "</style>\n",
       "<table border=\"1\" class=\"dataframe\">\n",
       "  <thead>\n",
       "    <tr style=\"text-align: right;\">\n",
       "      <th></th>\n",
       "      <th>nombre</th>\n",
       "      <th>edad</th>\n",
       "      <th>ciudad</th>\n",
       "    </tr>\n",
       "  </thead>\n",
       "  <tbody>\n",
       "    <tr>\n",
       "      <th>0</th>\n",
       "      <td>Juan</td>\n",
       "      <td>25</td>\n",
       "      <td>Madrid</td>\n",
       "    </tr>\n",
       "    <tr>\n",
       "      <th>1</th>\n",
       "      <td>María</td>\n",
       "      <td>30</td>\n",
       "      <td>Barcelona</td>\n",
       "    </tr>\n",
       "  </tbody>\n",
       "</table>\n",
       "</div>"
      ],
      "text/plain": [
       "  nombre  edad     ciudad\n",
       "0   Juan    25     Madrid\n",
       "1  María    30  Barcelona"
      ]
     },
     "execution_count": 23,
     "metadata": {},
     "output_type": "execute_result"
    }
   ],
   "source": [
    "df_json = pd.read_json(f'{file_path}/data.json')\n",
    "df_json.head(2)"
   ]
  },
  {
   "cell_type": "markdown",
   "id": "06cb5bc3",
   "metadata": {},
   "source": [
    "## Filtrar una columna"
   ]
  },
  {
   "cell_type": "code",
   "execution_count": 24,
   "id": "406d7a1c",
   "metadata": {},
   "outputs": [
    {
     "data": {
      "text/plain": [
       "0        Hernandez\n",
       "1          Barrett\n",
       "2            Smith\n",
       "3            Jones\n",
       "4           Hudson\n",
       "           ...    \n",
       "12430         Rios\n",
       "12431        Smith\n",
       "12432       Garcia\n",
       "12433        Mills\n",
       "12434       Horton\n",
       "Name: customer_lname, Length: 12435, dtype: object"
      ]
     },
     "execution_count": 24,
     "metadata": {},
     "output_type": "execute_result"
    }
   ],
   "source": [
    "df_customers['customer_lname']"
   ]
  },
  {
   "cell_type": "markdown",
   "id": "5ca2411a",
   "metadata": {},
   "source": [
    "## Obtener el tipo de dato de cada columna"
   ]
  },
  {
   "cell_type": "code",
   "execution_count": 41,
   "id": "e0711185",
   "metadata": {},
   "outputs": [
    {
     "data": {
      "text/plain": [
       "Id_Pasajero      int64\n",
       "Survived         int64\n",
       "Clase            int64\n",
       "Nombre          object\n",
       "Sexo            object\n",
       "Edad           float64\n",
       "Familiares       int64\n",
       "Tiquete         object\n",
       "Tarifa         float64\n",
       "Cabina          object\n",
       "Embarcado       object\n",
       "dtype: object"
      ]
     },
     "execution_count": 41,
     "metadata": {},
     "output_type": "execute_result"
    }
   ],
   "source": [
    "df_titanic.dtypes"
   ]
  },
  {
   "cell_type": "markdown",
   "id": "ac331c32",
   "metadata": {},
   "source": [
    "## Convertir columna edad a entero"
   ]
  },
  {
   "cell_type": "code",
   "execution_count": 49,
   "id": "28580b6a",
   "metadata": {},
   "outputs": [
    {
     "name": "stdout",
     "output_type": "stream",
     "text": [
      "Id_Pasajero      int64\n",
      "Survived         int64\n",
      "Clase            int64\n",
      "Nombre          object\n",
      "Sexo            object\n",
      "Edad             int64\n",
      "Familiares       int64\n",
      "Tiquete         object\n",
      "Tarifa         float64\n",
      "Cabina          object\n",
      "Embarcado       object\n",
      "dtype: object\n"
     ]
    }
   ],
   "source": [
    "df_titanic[\"Edad\"] = df_titanic[\"Edad\"].fillna(0)\n",
    "df_titanic[\"Edad\"] = df_titanic[\"Edad\"].astype(\"int64\")\n",
    "print(df_titanic.dtypes)"
   ]
  },
  {
   "cell_type": "markdown",
   "id": "9688a4bf",
   "metadata": {},
   "source": [
    "## Obtener el máximo y mínimo de la columna edad del dataframe Titanic"
   ]
  },
  {
   "cell_type": "code",
   "execution_count": 45,
   "id": "4152c782",
   "metadata": {},
   "outputs": [
    {
     "name": "stdout",
     "output_type": "stream",
     "text": [
      "Edad máxima:  80\n",
      "Edad mínima:  0\n"
     ]
    }
   ],
   "source": [
    "print(\"Edad máxima: \", df_titanic[\"Edad\"].max())\n",
    "print(\"Edad mínima: \", df_titanic[\"Edad\"].min())"
   ]
  },
  {
   "cell_type": "markdown",
   "id": "efc74ae9",
   "metadata": {},
   "source": [
    "## Descripción estadística"
   ]
  },
  {
   "cell_type": "code",
   "execution_count": 47,
   "id": "7c4b603f",
   "metadata": {},
   "outputs": [
    {
     "data": {
      "text/html": [
       "<div>\n",
       "<style scoped>\n",
       "    .dataframe tbody tr th:only-of-type {\n",
       "        vertical-align: middle;\n",
       "    }\n",
       "\n",
       "    .dataframe tbody tr th {\n",
       "        vertical-align: top;\n",
       "    }\n",
       "\n",
       "    .dataframe thead th {\n",
       "        text-align: right;\n",
       "    }\n",
       "</style>\n",
       "<table border=\"1\" class=\"dataframe\">\n",
       "  <thead>\n",
       "    <tr style=\"text-align: right;\">\n",
       "      <th></th>\n",
       "      <th>Id_Pasajero</th>\n",
       "      <th>Survived</th>\n",
       "      <th>Clase</th>\n",
       "      <th>Edad</th>\n",
       "      <th>Familiares</th>\n",
       "      <th>Tarifa</th>\n",
       "    </tr>\n",
       "  </thead>\n",
       "  <tbody>\n",
       "    <tr>\n",
       "      <th>count</th>\n",
       "      <td>891.000000</td>\n",
       "      <td>891.000000</td>\n",
       "      <td>891.000000</td>\n",
       "      <td>891.000000</td>\n",
       "      <td>891.000000</td>\n",
       "      <td>891.000000</td>\n",
       "    </tr>\n",
       "    <tr>\n",
       "      <th>mean</th>\n",
       "      <td>446.000000</td>\n",
       "      <td>0.383838</td>\n",
       "      <td>2.308642</td>\n",
       "      <td>23.783389</td>\n",
       "      <td>0.381594</td>\n",
       "      <td>32.205017</td>\n",
       "    </tr>\n",
       "    <tr>\n",
       "      <th>std</th>\n",
       "      <td>257.353842</td>\n",
       "      <td>0.486592</td>\n",
       "      <td>0.836071</td>\n",
       "      <td>17.597344</td>\n",
       "      <td>0.806057</td>\n",
       "      <td>49.693389</td>\n",
       "    </tr>\n",
       "    <tr>\n",
       "      <th>min</th>\n",
       "      <td>1.000000</td>\n",
       "      <td>0.000000</td>\n",
       "      <td>1.000000</td>\n",
       "      <td>0.000000</td>\n",
       "      <td>0.000000</td>\n",
       "      <td>0.000000</td>\n",
       "    </tr>\n",
       "    <tr>\n",
       "      <th>25%</th>\n",
       "      <td>223.500000</td>\n",
       "      <td>0.000000</td>\n",
       "      <td>2.000000</td>\n",
       "      <td>6.000000</td>\n",
       "      <td>0.000000</td>\n",
       "      <td>7.915000</td>\n",
       "    </tr>\n",
       "    <tr>\n",
       "      <th>50%</th>\n",
       "      <td>446.000000</td>\n",
       "      <td>0.000000</td>\n",
       "      <td>3.000000</td>\n",
       "      <td>24.000000</td>\n",
       "      <td>0.000000</td>\n",
       "      <td>14.450000</td>\n",
       "    </tr>\n",
       "    <tr>\n",
       "      <th>75%</th>\n",
       "      <td>668.500000</td>\n",
       "      <td>1.000000</td>\n",
       "      <td>3.000000</td>\n",
       "      <td>35.000000</td>\n",
       "      <td>0.000000</td>\n",
       "      <td>31.000000</td>\n",
       "    </tr>\n",
       "    <tr>\n",
       "      <th>max</th>\n",
       "      <td>891.000000</td>\n",
       "      <td>1.000000</td>\n",
       "      <td>3.000000</td>\n",
       "      <td>80.000000</td>\n",
       "      <td>6.000000</td>\n",
       "      <td>512.330000</td>\n",
       "    </tr>\n",
       "  </tbody>\n",
       "</table>\n",
       "</div>"
      ],
      "text/plain": [
       "       Id_Pasajero    Survived       Clase        Edad  Familiares      Tarifa\n",
       "count   891.000000  891.000000  891.000000  891.000000  891.000000  891.000000\n",
       "mean    446.000000    0.383838    2.308642   23.783389    0.381594   32.205017\n",
       "std     257.353842    0.486592    0.836071   17.597344    0.806057   49.693389\n",
       "min       1.000000    0.000000    1.000000    0.000000    0.000000    0.000000\n",
       "25%     223.500000    0.000000    2.000000    6.000000    0.000000    7.915000\n",
       "50%     446.000000    0.000000    3.000000   24.000000    0.000000   14.450000\n",
       "75%     668.500000    1.000000    3.000000   35.000000    0.000000   31.000000\n",
       "max     891.000000    1.000000    3.000000   80.000000    6.000000  512.330000"
      ]
     },
     "execution_count": 47,
     "metadata": {},
     "output_type": "execute_result"
    }
   ],
   "source": [
    "df_titanic.describe()"
   ]
  },
  {
   "cell_type": "markdown",
   "id": "620300f2",
   "metadata": {},
   "source": [
    "## Función info"
   ]
  },
  {
   "cell_type": "code",
   "execution_count": 51,
   "id": "aa90847e",
   "metadata": {},
   "outputs": [
    {
     "name": "stdout",
     "output_type": "stream",
     "text": [
      "<class 'pandas.core.frame.DataFrame'>\n",
      "RangeIndex: 891 entries, 0 to 890\n",
      "Data columns (total 11 columns):\n",
      " #   Column       Non-Null Count  Dtype  \n",
      "---  ------       --------------  -----  \n",
      " 0   Id_Pasajero  891 non-null    int64  \n",
      " 1   Survived     891 non-null    int64  \n",
      " 2   Clase        891 non-null    int64  \n",
      " 3   Nombre       891 non-null    object \n",
      " 4   Sexo         891 non-null    object \n",
      " 5   Edad         891 non-null    int64  \n",
      " 6   Familiares   891 non-null    int64  \n",
      " 7   Tiquete      891 non-null    object \n",
      " 8   Tarifa       891 non-null    float64\n",
      " 9   Cabina       204 non-null    object \n",
      " 10  Embarcado    889 non-null    object \n",
      "dtypes: float64(1), int64(5), object(5)\n",
      "memory usage: 76.7+ KB\n"
     ]
    }
   ],
   "source": [
    "df_titanic.info()"
   ]
  },
  {
   "cell_type": "markdown",
   "id": "b1309f04",
   "metadata": {},
   "source": [
    "## Verificar si tiene valores nulos en los campos"
   ]
  },
  {
   "cell_type": "code",
   "execution_count": 52,
   "id": "ad41b998",
   "metadata": {},
   "outputs": [
    {
     "data": {
      "text/plain": [
       "Id_Pasajero      0\n",
       "Survived         0\n",
       "Clase            0\n",
       "Nombre           0\n",
       "Sexo             0\n",
       "Edad             0\n",
       "Familiares       0\n",
       "Tiquete          0\n",
       "Tarifa           0\n",
       "Cabina         687\n",
       "Embarcado        2\n",
       "dtype: int64"
      ]
     },
     "execution_count": 52,
     "metadata": {},
     "output_type": "execute_result"
    }
   ],
   "source": [
    "df_titanic.isnull().sum()"
   ]
  },
  {
   "cell_type": "markdown",
   "id": "1a113c00",
   "metadata": {},
   "source": [
    "## Obtener la cantidad de tipos que tiene una columna"
   ]
  },
  {
   "cell_type": "code",
   "execution_count": 54,
   "id": "f0d89c99",
   "metadata": {},
   "outputs": [
    {
     "data": {
      "text/plain": [
       "Clase\n",
       "3    491\n",
       "1    216\n",
       "2    184\n",
       "Name: count, dtype: int64"
      ]
     },
     "execution_count": 54,
     "metadata": {},
     "output_type": "execute_result"
    }
   ],
   "source": [
    "df_titanic[\"Clase\"].value_counts()"
   ]
  },
  {
   "cell_type": "code",
   "execution_count": 61,
   "id": "d654b910",
   "metadata": {},
   "outputs": [
    {
     "data": {
      "text/plain": [
       "0       NaN\n",
       "1       C85\n",
       "2       NaN\n",
       "3      C123\n",
       "4       NaN\n",
       "       ... \n",
       "886     NaN\n",
       "887     B42\n",
       "888     NaN\n",
       "889    C148\n",
       "890     NaN\n",
       "Name: Cabina, Length: 891, dtype: object"
      ]
     },
     "execution_count": 61,
     "metadata": {},
     "output_type": "execute_result"
    }
   ],
   "source": [
    "df_titanic[\"Cabina\"]"
   ]
  },
  {
   "cell_type": "markdown",
   "id": "3911e386",
   "metadata": {},
   "source": [
    "## Validar si hay PK duplicados\n",
    "\n",
    "- El ```assert``` se utiliza para el manejo de errores en prueba, ya en producción se cambia por otro.\n",
    "- Para producción se utiliza ```raise```."
   ]
  },
  {
   "cell_type": "code",
   "execution_count": null,
   "id": "a7ab6298",
   "metadata": {},
   "outputs": [],
   "source": [
    "assert df_titanic[\"Id_Pasajero\"].is_unique, \"Error de duplicados\""
   ]
  },
  {
   "cell_type": "code",
   "execution_count": 67,
   "id": "6a6cf021",
   "metadata": {},
   "outputs": [
    {
     "name": "stdout",
     "output_type": "stream",
     "text": [
      "No hay duplicados ..\n"
     ]
    }
   ],
   "source": [
    "if not df_titanic[\"Id_Pasajero\"].is_unique:\n",
    "    raise ValueError(\"Error de duplicados en Id_Pasajero\")\n",
    "\n",
    "print(\"No hay duplicados ..\")"
   ]
  },
  {
   "cell_type": "code",
   "execution_count": null,
   "id": "3e8501da",
   "metadata": {},
   "outputs": [],
   "source": []
  }
 ],
 "metadata": {
  "kernelspec": {
   "display_name": "Python 3",
   "language": "python",
   "name": "python3"
  },
  "language_info": {
   "codemirror_mode": {
    "name": "ipython",
    "version": 3
   },
   "file_extension": ".py",
   "mimetype": "text/x-python",
   "name": "python",
   "nbconvert_exporter": "python",
   "pygments_lexer": "ipython3",
   "version": "3.12.5"
  }
 },
 "nbformat": 4,
 "nbformat_minor": 5
}
